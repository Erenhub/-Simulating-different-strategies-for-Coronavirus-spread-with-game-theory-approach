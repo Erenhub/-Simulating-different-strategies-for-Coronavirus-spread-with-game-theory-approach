{
 "cells": [
  {
   "cell_type": "code",
   "execution_count": 1,
   "metadata": {},
   "outputs": [],
   "source": [
    "import axlrd as axl"
   ]
  },
  {
   "cell_type": "code",
   "execution_count": 2,
   "metadata": {},
   "outputs": [
    {
     "data": {
      "text/plain": [
       "Axelrod game: (R,P,S,T) = (6, 3, 3, 7)"
      ]
     },
     "execution_count": 2,
     "metadata": {},
     "output_type": "execute_result"
    }
   ],
   "source": [
    "corona = axl.Game(r=6, s=3, t=7, p=3)\n",
    "corona"
   ]
  },
  {
   "cell_type": "code",
   "execution_count": 3,
   "metadata": {},
   "outputs": [],
   "source": [
    "Germany=[]\n",
    "Italy=[]\n",
    "Turkey=[]\n",
    "\n",
    "for i in range (9):\n",
    "    Germany.append(axl.Cooperator())\n",
    "\n",
    "for i in range (1):\n",
    "    Germany.append(axl.Defector())\n",
    "\n",
    "for i in range (6):\n",
    "    Turkey.append(axl.Cooperator())\n",
    "\n",
    "for i in range (4):\n",
    "    Turkey.append(axl.Defector())\n",
    "\n",
    "for i in range (2):\n",
    "    Italy.append(axl.Cooperator())\n",
    "\n",
    "for i in range (8):\n",
    "    Italy.append(axl.Defector())\n",
    "    \n",
    "deneme=[]\n",
    "\n",
    "for i in range (1):\n",
    "    deneme.append(axl.Cooperator())\n",
    "\n",
    "for i in range (7):\n",
    "    deneme.append(axl.Defector())"
   ]
  },
  {
   "cell_type": "code",
   "execution_count": 4,
   "metadata": {},
   "outputs": [
    {
     "name": "stderr",
     "output_type": "stream",
     "text": [
      "Playing matches: 100%|████████████████████████████████████████████████████████████████| 55/55 [00:00<00:00, 401.63it/s]\n",
      "Analysing: 100%|███████████████████████████████████████████████████████████████████████| 25/25 [00:00<00:00, 74.23it/s]\n",
      "Playing matches: 100%|████████████████████████████████████████████████████████████████| 55/55 [00:00<00:00, 462.46it/s]\n",
      "Analysing: 100%|███████████████████████████████████████████████████████████████████████| 25/25 [00:00<00:00, 63.10it/s]\n",
      "Playing matches: 100%|████████████████████████████████████████████████████████████████| 55/55 [00:00<00:00, 474.41it/s]\n",
      "Analysing: 100%|███████████████████████████████████████████████████████████████████████| 25/25 [00:00<00:00, 77.68it/s]\n"
     ]
    }
   ],
   "source": [
    "tournamentG = axl.Tournament(players=Germany,game=corona,turns=5)\n",
    "resultsG = tournamentG.play()\n",
    "\n",
    "tournamentI = axl.Tournament(players=Italy,game=corona,turns=5)\n",
    "resultsI = tournamentI.play()\n",
    "\n",
    "tournamentT = axl.Tournament(players=Turkey,game=corona,turns=5)\n",
    "resultsT = tournamentT.play()\n",
    "\n"
   ]
  },
  {
   "cell_type": "code",
   "execution_count": 5,
   "metadata": {},
   "outputs": [],
   "source": [
    "summaryG = resultsG.summarise()\n",
    "#pprint.pprint(summaryG)     "
   ]
  },
  {
   "cell_type": "code",
   "execution_count": 6,
   "metadata": {},
   "outputs": [],
   "source": [
    "###################\n",
    "##############\n",
    "############                           Moran"
   ]
  },
  {
   "cell_type": "code",
   "execution_count": 7,
   "metadata": {},
   "outputs": [
    {
     "data": {
      "text/plain": [
       "[Counter({'Cooperator': 9, 'Defector': 1}),\n",
       " Counter({'Cooperator': 9, 'Defector': 1}),\n",
       " Counter({'Cooperator': 9, 'Defector': 1}),\n",
       " Counter({'Cooperator': 8, 'Defector': 2}),\n",
       " Counter({'Cooperator': 9, 'Defector': 1}),\n",
       " Counter({'Cooperator': 9, 'Defector': 1}),\n",
       " Counter({'Cooperator': 8, 'Defector': 2}),\n",
       " Counter({'Cooperator': 8, 'Defector': 2}),\n",
       " Counter({'Cooperator': 8, 'Defector': 2}),\n",
       " Counter({'Cooperator': 8, 'Defector': 2}),\n",
       " Counter({'Cooperator': 8, 'Defector': 2}),\n",
       " Counter({'Cooperator': 8, 'Defector': 2}),\n",
       " Counter({'Cooperator': 9, 'Defector': 1}),\n",
       " Counter({'Cooperator': 9, 'Defector': 1}),\n",
       " Counter({'Cooperator': 9, 'Defector': 1}),\n",
       " Counter({'Cooperator': 8, 'Defector': 2}),\n",
       " Counter({'Cooperator': 8, 'Defector': 2}),\n",
       " Counter({'Cooperator': 7, 'Defector': 3}),\n",
       " Counter({'Cooperator': 7, 'Defector': 3}),\n",
       " Counter({'Cooperator': 7, 'Defector': 3}),\n",
       " Counter({'Cooperator': 8, 'Defector': 2}),\n",
       " Counter({'Cooperator': 8, 'Defector': 2}),\n",
       " Counter({'Cooperator': 7, 'Defector': 3}),\n",
       " Counter({'Cooperator': 7, 'Defector': 3}),\n",
       " Counter({'Cooperator': 7, 'Defector': 3}),\n",
       " Counter({'Cooperator': 7, 'Defector': 3}),\n",
       " Counter({'Cooperator': 7, 'Defector': 3}),\n",
       " Counter({'Cooperator': 8, 'Defector': 2}),\n",
       " Counter({'Cooperator': 8, 'Defector': 2}),\n",
       " Counter({'Cooperator': 8, 'Defector': 2}),\n",
       " Counter({'Cooperator': 8, 'Defector': 2}),\n",
       " Counter({'Cooperator': 9, 'Defector': 1}),\n",
       " Counter({'Cooperator': 9, 'Defector': 1}),\n",
       " Counter({'Cooperator': 9, 'Defector': 1}),\n",
       " Counter({'Cooperator': 10})]"
      ]
     },
     "execution_count": 7,
     "metadata": {},
     "output_type": "execute_result"
    }
   ],
   "source": [
    "mpG = axl.MoranProcess(Germany,game=corona)\n",
    "populationsG = mpG.play()\n",
    "populationsG\n"
   ]
  },
  {
   "cell_type": "code",
   "execution_count": 8,
   "metadata": {},
   "outputs": [
    {
     "data": {
      "text/plain": [
       "[Counter({'Cooperator': 6, 'Defector': 4}),\n",
       " Counter({'Cooperator': 7, 'Defector': 3}),\n",
       " Counter({'Cooperator': 7, 'Defector': 3}),\n",
       " Counter({'Cooperator': 8, 'Defector': 2}),\n",
       " Counter({'Cooperator': 9, 'Defector': 1}),\n",
       " Counter({'Cooperator': 9, 'Defector': 1}),\n",
       " Counter({'Cooperator': 10})]"
      ]
     },
     "execution_count": 8,
     "metadata": {},
     "output_type": "execute_result"
    }
   ],
   "source": [
    "mpT = axl.MoranProcess(Turkey,game=corona)\n",
    "populationsT = mpT.play()\n",
    "populationsT"
   ]
  },
  {
   "cell_type": "code",
   "execution_count": 9,
   "metadata": {},
   "outputs": [
    {
     "data": {
      "text/plain": [
       "[Counter({'Cooperator': 2, 'Defector': 8}),\n",
       " Counter({'Cooperator': 2, 'Defector': 8}),\n",
       " Counter({'Cooperator': 3, 'Defector': 7}),\n",
       " Counter({'Cooperator': 3, 'Defector': 7}),\n",
       " Counter({'Cooperator': 3, 'Defector': 7}),\n",
       " Counter({'Cooperator': 4, 'Defector': 6}),\n",
       " Counter({'Cooperator': 4, 'Defector': 6}),\n",
       " Counter({'Cooperator': 3, 'Defector': 7}),\n",
       " Counter({'Cooperator': 3, 'Defector': 7}),\n",
       " Counter({'Cooperator': 3, 'Defector': 7}),\n",
       " Counter({'Cooperator': 3, 'Defector': 7}),\n",
       " Counter({'Cooperator': 3, 'Defector': 7}),\n",
       " Counter({'Cooperator': 2, 'Defector': 8}),\n",
       " Counter({'Cooperator': 2, 'Defector': 8}),\n",
       " Counter({'Cooperator': 2, 'Defector': 8}),\n",
       " Counter({'Cooperator': 2, 'Defector': 8}),\n",
       " Counter({'Cooperator': 2, 'Defector': 8}),\n",
       " Counter({'Cooperator': 3, 'Defector': 7}),\n",
       " Counter({'Cooperator': 3, 'Defector': 7}),\n",
       " Counter({'Cooperator': 4, 'Defector': 6}),\n",
       " Counter({'Defector': 7, 'Cooperator': 3}),\n",
       " Counter({'Defector': 8, 'Cooperator': 2}),\n",
       " Counter({'Defector': 8, 'Cooperator': 2}),\n",
       " Counter({'Defector': 8, 'Cooperator': 2}),\n",
       " Counter({'Defector': 8, 'Cooperator': 2}),\n",
       " Counter({'Defector': 9, 'Cooperator': 1}),\n",
       " Counter({'Defector': 9, 'Cooperator': 1}),\n",
       " Counter({'Defector': 9, 'Cooperator': 1}),\n",
       " Counter({'Defector': 9, 'Cooperator': 1}),\n",
       " Counter({'Defector': 9, 'Cooperator': 1}),\n",
       " Counter({'Defector': 9, 'Cooperator': 1}),\n",
       " Counter({'Defector': 9, 'Cooperator': 1}),\n",
       " Counter({'Defector': 9, 'Cooperator': 1}),\n",
       " Counter({'Defector': 9, 'Cooperator': 1}),\n",
       " Counter({'Defector': 9, 'Cooperator': 1}),\n",
       " Counter({'Defector': 9, 'Cooperator': 1}),\n",
       " Counter({'Defector': 9, 'Cooperator': 1}),\n",
       " Counter({'Defector': 9, 'Cooperator': 1}),\n",
       " Counter({'Defector': 9, 'Cooperator': 1}),\n",
       " Counter({'Defector': 9, 'Cooperator': 1}),\n",
       " Counter({'Defector': 9, 'Cooperator': 1}),\n",
       " Counter({'Defector': 9, 'Cooperator': 1}),\n",
       " Counter({'Defector': 9, 'Cooperator': 1}),\n",
       " Counter({'Defector': 9, 'Cooperator': 1}),\n",
       " Counter({'Defector': 9, 'Cooperator': 1}),\n",
       " Counter({'Defector': 9, 'Cooperator': 1}),\n",
       " Counter({'Defector': 9, 'Cooperator': 1}),\n",
       " Counter({'Defector': 9, 'Cooperator': 1}),\n",
       " Counter({'Defector': 9, 'Cooperator': 1}),\n",
       " Counter({'Defector': 8, 'Cooperator': 2}),\n",
       " Counter({'Defector': 7, 'Cooperator': 3}),\n",
       " Counter({'Defector': 7, 'Cooperator': 3}),\n",
       " Counter({'Defector': 8, 'Cooperator': 2}),\n",
       " Counter({'Defector': 8, 'Cooperator': 2}),\n",
       " Counter({'Defector': 9, 'Cooperator': 1}),\n",
       " Counter({'Defector': 9, 'Cooperator': 1}),\n",
       " Counter({'Defector': 9, 'Cooperator': 1}),\n",
       " Counter({'Defector': 9, 'Cooperator': 1}),\n",
       " Counter({'Defector': 9, 'Cooperator': 1}),\n",
       " Counter({'Defector': 9, 'Cooperator': 1}),\n",
       " Counter({'Defector': 9, 'Cooperator': 1}),\n",
       " Counter({'Defector': 9, 'Cooperator': 1}),\n",
       " Counter({'Defector': 10})]"
      ]
     },
     "execution_count": 9,
     "metadata": {},
     "output_type": "execute_result"
    }
   ],
   "source": [
    "mpI = axl.MoranProcess(Italy,game=corona)\n",
    "populationsI = mpI.play()\n",
    "populationsI\n"
   ]
  },
  {
   "cell_type": "code",
   "execution_count": 10,
   "metadata": {},
   "outputs": [
    {
     "name": "stdout",
     "output_type": "stream",
     "text": [
      "35\n",
      "7\n",
      "63\n"
     ]
    }
   ],
   "source": [
    "print(len(populationsG))\n",
    "print(len(populationsT))\n",
    "print(len(populationsI))\n"
   ]
  },
  {
   "cell_type": "code",
   "execution_count": 11,
   "metadata": {},
   "outputs": [
    {
     "data": {
      "image/png": "[encoded data removed]",
      "text/plain": [
       "<Figure size 432x288 with 1 Axes>"
      ]
     },
     "metadata": {
      "needs_background": "light"
     },
     "output_type": "display_data"
    }
   ],
   "source": [
    "ax1 = mpG.populations_plot()"
   ]
  },
  {
   "cell_type": "code",
   "execution_count": 12,
   "metadata": {},
   "outputs": [
    {
     "data": {
      "image/png": "[encoded data removed]",
      "text/plain": [
       "<Figure size 432x288 with 1 Axes>"
      ]
     },
     "metadata": {
      "needs_background": "light"
     },
     "output_type": "display_data"
    }
   ],
   "source": [
    "ax2 = mpT.populations_plot()"
   ]
  },
  {
   "cell_type": "code",
   "execution_count": 13,
   "metadata": {},
   "outputs": [
    {
     "data": {
      "image/png": "[encoded data removed]",
      "text/plain": [
       "<Figure size 432x288 with 1 Axes>"
      ]
     },
     "metadata": {
      "needs_background": "light"
     },
     "output_type": "display_data"
    }
   ],
   "source": [
    "ax3 = mpI.populations_plot()"
   ]
  },
  {
   "cell_type": "code",
   "execution_count": null,
   "metadata": {},
   "outputs": [],
   "source": [
    "################# with deterministic cache\n"
   ]
  },
  {
   "cell_type": "code",
   "execution_count": 14,
   "metadata": {},
   "outputs": [
    {
     "name": "stderr",
     "output_type": "stream",
     "text": [
      "Playing matches: 100%|███████████████████████████████████████████████████████████████████| 3/3 [00:00<00:00, 31.60it/s]\n",
      "Analysing: 100%|███████████████████████████████████████████████████████████████████████| 25/25 [00:00<00:00, 79.66it/s]\n"
     ]
    }
   ],
   "source": [
    "players = [axl.Cooperator(), axl.Defector()]\n",
    "tournament = axl.Tournament(players,game=corona,turns=200)\n",
    "results = tournament.play()\n",
    "eco = axl.Ecosystem(results)"
   ]
  },
  {
   "cell_type": "code",
   "execution_count": 15,
   "metadata": {},
   "outputs": [
    {
     "name": "stderr",
     "output_type": "stream",
     "text": [
      "C:\\Users\\eren2\\Anaconda3\\lib\\site-packages\\ipykernel_launcher.py:4: UserWarning: Matplotlib is currently using module://ipykernel.pylab.backend_inline, which is a non-GUI backend, so cannot show the figure.\n",
      "  after removing the cwd from sys.path.\n"
     ]
    },
    {
     "data": {
      "image/png": "[encoded data removed]",
      "text/plain": [
       "<Figure size 432x288 with 1 Axes>"
      ]
     },
     "metadata": {
      "needs_background": "light"
     },
     "output_type": "display_data"
    }
   ],
   "source": [
    "eco.reproduce(300)\n",
    "plot = axl.Plot(results)\n",
    "p = plot.stackplot(eco)\n",
    "p.show()         "
   ]
  },
  {
   "cell_type": "code",
   "execution_count": null,
   "metadata": {},
   "outputs": [],
   "source": [
    "# the temptation of defecting costs longer time to converge, just in the situtation that coorperation "
   ]
  },
  {
   "cell_type": "code",
   "execution_count": 16,
   "metadata": {},
   "outputs": [],
   "source": [
    "#is imposible because of the number of defector too much the ideal strategy is defect"
   ]
  },
  {
   "cell_type": "code",
   "execution_count": 17,
   "metadata": {},
   "outputs": [],
   "source": [
    "#but if there is a chance to cooperate, the price of anarchy is having pandemic longer period of time"
   ]
  },
  {
   "cell_type": "code",
   "execution_count": null,
   "metadata": {},
   "outputs": [],
   "source": []
  }
 ],
 "metadata": {
  "kernelspec": {
   "display_name": "Python 3",
   "language": "python",
   "name": "python3"
  },
  "language_info": {
   "codemirror_mode": {
    "name": "ipython",
    "version": 3
   },
   "file_extension": ".py",
   "mimetype": "text/x-python",
   "name": "python",
   "nbconvert_exporter": "python",
   "pygments_lexer": "ipython3",
   "version": "3.7.4"
  }
 },
 "nbformat": 4,
 "nbformat_minor": 2
}
